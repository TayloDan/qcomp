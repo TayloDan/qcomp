{
 "cells": [
  {
   "cell_type": "code",
   "execution_count": 1,
   "metadata": {},
   "outputs": [],
   "source": [
    "from qcomp.gate import *\n",
    "from qcomp.qbit import *\n",
    "from qcomp.qregister import *\n",
    "from numpy import sqrt\n",
    "from numpy.random import random"
   ]
  },
  {
   "cell_type": "markdown",
   "metadata": {},
   "source": [
    "# 5 Qubit search"
   ]
  },
  {
   "cell_type": "code",
   "execution_count": 2,
   "metadata": {},
   "outputs": [
    {
     "name": "stdout",
     "output_type": "stream",
     "text": [
      "['01110001']\n"
     ]
    }
   ],
   "source": [
    "Nbits = 8\n",
    "oracle_zero = ['0'*Nbits]\n",
    "oracle_def = [\"\".join([ '0' if random() > 0.5 else '1' for i in range(Nbits)])]\n",
    "print(oracle_def)"
   ]
  },
  {
   "cell_type": "code",
   "execution_count": 3,
   "metadata": {},
   "outputs": [],
   "source": [
    "U_oracle = construct_unitary_F(oracle_def)\n",
    "U_zero = construct_unitary_F(oracle_zero)"
   ]
  },
  {
   "cell_type": "code",
   "execution_count": 6,
   "metadata": {},
   "outputs": [],
   "source": [
    "# create grover input state\n",
    "grover_in = mk_reg([ZERO]*Nbits+[QBit([1,-1])])\n",
    "H_and_I = VChain([H]*Nbits+[I])\n",
    "grover_in = H_and_I.apply(grover_in)"
   ]
  },
  {
   "cell_type": "code",
   "execution_count": 7,
   "metadata": {},
   "outputs": [],
   "source": [
    "grover = HChain([U_oracle, H_and_I, U_zero, H_and_I])"
   ]
  },
  {
   "cell_type": "code",
   "execution_count": 8,
   "metadata": {},
   "outputs": [],
   "source": [
    "for i in range(int((2**5))):\n",
    "    grover_in = grover.apply(grover_in)"
   ]
  },
  {
   "cell_type": "code",
   "execution_count": 9,
   "metadata": {},
   "outputs": [
    {
     "name": "stdout",
     "output_type": "stream",
     "text": [
      "(0.8174909949302673+0j)|0> + (0.1825091689825058+0j)|1>\n",
      "(0.1825091689825058+0j)|0> + (0.8174909949302673+0j)|1>\n",
      "(0.1825091689825058+0j)|0> + (0.8174909949302673+0j)|1>\n",
      "(0.1825091689825058+0j)|0> + (0.8174909949302673+0j)|1>\n",
      "(0.8174909353256226+0j)|0> + (0.1825091689825058+0j)|1>\n",
      "(0.8174909353256226+0j)|0> + (0.1825091689825058+0j)|1>\n",
      "(0.8174909353256226+0j)|0> + (0.1825091689825058+0j)|1>\n",
      "(0.1825091689825058+0j)|0> + (0.8174909353256226+0j)|1>\n"
     ]
    }
   ],
   "source": [
    "for i in range(Nbits):\n",
    "    print(grover_in.get_qbit(i))"
   ]
  },
  {
   "cell_type": "code",
   "execution_count": null,
   "metadata": {},
   "outputs": [],
   "source": []
  }
 ],
 "metadata": {
  "kernelspec": {
   "display_name": "Python 3",
   "language": "python",
   "name": "python3"
  },
  "language_info": {
   "codemirror_mode": {
    "name": "ipython",
    "version": 3
   },
   "file_extension": ".py",
   "mimetype": "text/x-python",
   "name": "python",
   "nbconvert_exporter": "python",
   "pygments_lexer": "ipython3",
   "version": "3.5.3"
  }
 },
 "nbformat": 4,
 "nbformat_minor": 2
}
