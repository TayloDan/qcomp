{
 "cells": [
  {
   "cell_type": "code",
   "execution_count": 1,
   "metadata": {},
   "outputs": [],
   "source": [
    "from qcomp.gate import *\n",
    "from qcomp.qbit import *\n",
    "from qcomp.qregister import *\n",
    "from numpy import sqrt\n",
    "from numpy.random import random"
   ]
  },
  {
   "cell_type": "markdown",
   "metadata": {},
   "source": [
    "# 5 Qubit search"
   ]
  },
  {
   "cell_type": "code",
   "execution_count": 2,
   "metadata": {},
   "outputs": [
    {
     "name": "stdout",
     "output_type": "stream",
     "text": [
      "['01101110']\n"
     ]
    }
   ],
   "source": [
    "Nbits = 8\n",
    "oracle_zero = ['0'*Nbits]\n",
    "oracle_def = [\"\".join([ '0' if random() > 0.5 else '1' for i in range(Nbits)])]\n",
    "print(oracle_def)"
   ]
  },
  {
   "cell_type": "code",
   "execution_count": 3,
   "metadata": {},
   "outputs": [],
   "source": [
    "U_oracle = construct_unitary_F(oracle_def)\n",
    "U_zero = construct_unitary_F(oracle_zero)"
   ]
  },
  {
   "cell_type": "code",
   "execution_count": 4,
   "metadata": {},
   "outputs": [
    {
     "data": {
      "text/plain": [
       "<qcomp.gate.MGate at 0x7f75fc0285c0>"
      ]
     },
     "execution_count": 4,
     "metadata": {},
     "output_type": "execute_result"
    }
   ],
   "source": [
    "H*H"
   ]
  },
  {
   "cell_type": "code",
   "execution_count": 6,
   "metadata": {},
   "outputs": [],
   "source": [
    "# create grover input state\n",
    "grover_in = mk_reg([ZERO]*Nbits+[QBit([1,-1])])\n",
    "H_and_I = H\n",
    "for i in range(grover_in.nbits-2):\n",
    "    H_and_I *= H\n",
    "H_and_I *= I\n",
    "grover_in = H_and_I.apply(grover_in)"
   ]
  },
  {
   "cell_type": "code",
   "execution_count": 8,
   "metadata": {},
   "outputs": [],
   "source": [
    "grover = U_oracle + H_and_I + U_zero + H_and_I"
   ]
  },
  {
   "cell_type": "code",
   "execution_count": 9,
   "metadata": {},
   "outputs": [],
   "source": [
    "for i in range(int((2**5))):\n",
    "    grover_in = grover.apply(grover_in)"
   ]
  },
  {
   "cell_type": "code",
   "execution_count": 10,
   "metadata": {},
   "outputs": [
    {
     "name": "stdout",
     "output_type": "stream",
     "text": [
      "(0.7555829882621765+0j)|0> + (0.2444169521331787+0j)|1>\n",
      "(0.2444169521331787+0j)|0> + (0.7555829882621765+0j)|1>\n",
      "(0.2444169521331787+0j)|0> + (0.7555829882621765+0j)|1>\n",
      "(0.7555829882621765+0j)|0> + (0.2444169521331787+0j)|1>\n",
      "(0.2444169521331787+0j)|0> + (0.7555829882621765+0j)|1>\n",
      "(0.2444169521331787+0j)|0> + (0.7555829882621765+0j)|1>\n",
      "(0.2444169521331787+0j)|0> + (0.7555829882621765+0j)|1>\n",
      "(0.7555829882621765+0j)|0> + (0.2444169521331787+0j)|1>\n"
     ]
    }
   ],
   "source": [
    "for i in range(Nbits):\n",
    "    print(grover_in.get_qbit(i))"
   ]
  },
  {
   "cell_type": "markdown",
   "metadata": {},
   "source": [
    "# CNOT"
   ]
  },
  {
   "cell_type": "code",
   "execution_count": 1,
   "metadata": {},
   "outputs": [],
   "source": [
    "from qcomp.gate import CNOT, CNOT_r\n",
    "from qcomp.qregister import mk_reg\n",
    "import numpy as np\n",
    "from qcomp.qbit import *\n",
    "from qcomp.gate import *"
   ]
  },
  {
   "cell_type": "code",
   "execution_count": 4,
   "metadata": {},
   "outputs": [
    {
     "name": "stdout",
     "output_type": "stream",
     "text": [
      "[[ 1.00000000e+00 -1.23259516e-32  1.23259516e-32 -1.23259516e-32]\n",
      " [ 1.23259516e-32 -1.23259516e-32  1.00000000e+00 -1.23259516e-32]\n",
      " [-1.23259516e-32  1.00000000e+00 -1.23259516e-32  1.23259516e-32]\n",
      " [-1.23259516e-32  1.23259516e-32 -1.23259516e-32  1.00000000e+00]]\n"
     ]
    }
   ],
   "source": [
    "np.set_printoptions(threshold=np.inf)\n",
    "SWAP = (CNOT + CNOT_r + CNOT) \n",
    "print(SWAP.matrix)"
   ]
  },
  {
   "cell_type": "code",
   "execution_count": 5,
   "metadata": {},
   "outputs": [
    {
     "data": {
      "text/plain": [
       "-0.00+0.00j \t |00> \n",
       "-0.00+0.00j \t |01> \n",
       "1.00+0.00j \t |10> \n",
       "0.00+0.00j \t |11> "
      ]
     },
     "execution_count": 5,
     "metadata": {},
     "output_type": "execute_result"
    }
   ],
   "source": [
    "SWAP.apply(mk_reg([ZERO,ONE]))"
   ]
  },
  {
   "cell_type": "code",
   "execution_count": 6,
   "metadata": {},
   "outputs": [
    {
     "name": "stdout",
     "output_type": "stream",
     "text": [
      "[[ 1.00000000e+00 -1.23259516e-32 -1.23259516e-32  1.23259516e-32]\n",
      " [ 1.23259516e-32 -1.23259516e-32 -1.23259516e-32  1.00000000e+00]\n",
      " [-1.23259516e-32  1.23259516e-32  1.00000000e+00 -1.23259516e-32]\n",
      " [-1.23259516e-32  1.00000000e+00  1.23259516e-32 -1.23259516e-32]]\n"
     ]
    }
   ],
   "source": [
    "print(CNOT_r.matrix)"
   ]
  },
  {
   "cell_type": "code",
   "execution_count": 7,
   "metadata": {},
   "outputs": [],
   "source": [
    "CNOT_ = (CNOT*I) + (I*CNOT) + (CNOT*I) + (I*CNOT)"
   ]
  },
  {
   "cell_type": "code",
   "execution_count": 8,
   "metadata": {},
   "outputs": [
    {
     "name": "stdout",
     "output_type": "stream",
     "text": [
      "[[1. 0. 0. 0. 0. 0. 0. 0.]\n",
      " [0. 1. 0. 0. 0. 0. 0. 0.]\n",
      " [0. 0. 1. 0. 0. 0. 0. 0.]\n",
      " [0. 0. 0. 1. 0. 0. 0. 0.]\n",
      " [0. 0. 0. 0. 0. 1. 0. 0.]\n",
      " [0. 0. 0. 0. 1. 0. 0. 0.]\n",
      " [0. 0. 0. 0. 0. 0. 0. 1.]\n",
      " [0. 0. 0. 0. 0. 0. 1. 0.]]\n"
     ]
    }
   ],
   "source": [
    "print(CNOT_.matrix)"
   ]
  },
  {
   "cell_type": "code",
   "execution_count": 9,
   "metadata": {},
   "outputs": [
    {
     "data": {
      "text/plain": [
       "0.00+0.00j \t |000> \n",
       "0.00+0.00j \t |001> \n",
       "0.00+0.00j \t |010> \n",
       "0.00+0.00j \t |011> \n",
       "1.00+0.00j \t |100> \n",
       "0.00+0.00j \t |101> \n",
       "0.00+0.00j \t |110> \n",
       "0.00+0.00j \t |111> "
      ]
     },
     "execution_count": 9,
     "metadata": {},
     "output_type": "execute_result"
    }
   ],
   "source": [
    "CNOT_.apply(mk_reg([ONE,ZERO,ONE]))"
   ]
  },
  {
   "cell_type": "code",
   "execution_count": null,
   "metadata": {},
   "outputs": [],
   "source": []
  }
 ],
 "metadata": {
  "kernelspec": {
   "display_name": "Python 3",
   "language": "python",
   "name": "python3"
  },
  "language_info": {
   "codemirror_mode": {
    "name": "ipython",
    "version": 3
   },
   "file_extension": ".py",
   "mimetype": "text/x-python",
   "name": "python",
   "nbconvert_exporter": "python",
   "pygments_lexer": "ipython3",
   "version": "3.5.3"
  }
 },
 "nbformat": 4,
 "nbformat_minor": 2
}
