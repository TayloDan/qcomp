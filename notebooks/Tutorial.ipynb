{
 "cells": [
  {
   "cell_type": "markdown",
   "metadata": {},
   "source": [
    "This is generic introduction on how to use the module written. The module can be imported as"
   ]
  },
  {
   "cell_type": "code",
   "execution_count": 1,
   "metadata": {},
   "outputs": [],
   "source": [
    "import qcomp as Q\n",
    "import numpy as np"
   ]
  },
  {
   "cell_type": "markdown",
   "metadata": {},
   "source": [
    "# QBits\n",
    "\n",
    "QBits are pretty much dumb on their own. Only thing that needed caution is making sure it is normalized. This is done automatically so there is no need to check"
   ]
  },
  {
   "cell_type": "code",
   "execution_count": 2,
   "metadata": {},
   "outputs": [
    {
     "data": {
      "text/plain": [
       "array([-0.09950373+0.j,  0.99503726+0.j], dtype=complex64)"
      ]
     },
     "execution_count": 2,
     "metadata": {},
     "output_type": "execute_result"
    }
   ],
   "source": [
    "Q.qbit.QBit([-2,20]).state"
   ]
  },
  {
   "cell_type": "markdown",
   "metadata": {},
   "source": [
    "There are four useful pre-defined bits that are useful when preparing registers |0>,|1>,|0>+|1>,|0>-|1>. As with anything, you can usually call _help_ to get information."
   ]
  },
  {
   "cell_type": "code",
   "execution_count": 3,
   "metadata": {},
   "outputs": [
    {
     "name": "stdout",
     "output_type": "stream",
     "text": [
      "Help on module qcomp.qbit in qcomp:\n",
      "\n",
      "NAME\n",
      "    qcomp.qbit\n",
      "\n",
      "DESCRIPTION\n",
      "    qbit module contains class QBit, and constants\n",
      "    ZERO, ONE which represent 1-qbit |0> and |1> states\n",
      "\n",
      "CLASSES\n",
      "    builtins.object\n",
      "        QBit\n",
      "    \n",
      "    class QBit(builtins.object)\n",
      "     |  QBit is represented as 2D complex vector\n",
      "     |  \n",
      "     |  Methods defined here:\n",
      "     |  \n",
      "     |  __init__(self, state)\n",
      "     |      Instance variables\n",
      "     |      -----------------\n",
      "     |      state: numpy array (size 2)\n",
      "     |      \n",
      "     |      Methods\n",
      "     |      -----------------\n",
      "     |      normalize\n",
      "     |  \n",
      "     |  normalize(self)\n",
      "     |      Set the magnitude of state vector to 1, keeps overall probability equal to 1\n",
      "     |      Does not return anything\n",
      "     |  \n",
      "     |  ----------------------------------------------------------------------\n",
      "     |  Data descriptors defined here:\n",
      "     |  \n",
      "     |  __dict__\n",
      "     |      dictionary for instance variables (if defined)\n",
      "     |  \n",
      "     |  __weakref__\n",
      "     |      list of weak references to the object (if defined)\n",
      "\n",
      "DATA\n",
      "    MINUS = <qcomp.qbit.QBit object>\n",
      "    ONE = <qcomp.qbit.QBit object>\n",
      "    PLUS = <qcomp.qbit.QBit object>\n",
      "    ZERO = <qcomp.qbit.QBit object>\n",
      "\n",
      "FILE\n",
      "    /home/bashir/Documents/QComp/qcomp/qcomp/qbit.py\n",
      "\n",
      "\n"
     ]
    }
   ],
   "source": [
    "help(Q.qbit)"
   ]
  },
  {
   "cell_type": "markdown",
   "metadata": {},
   "source": [
    "to import predefined bits we want"
   ]
  },
  {
   "cell_type": "code",
   "execution_count": 4,
   "metadata": {},
   "outputs": [
    {
     "name": "stdout",
     "output_type": "stream",
     "text": [
      "[0.70710677+0.j 0.70710677+0.j]\n"
     ]
    }
   ],
   "source": [
    "from qcomp.qbit import ZERO, ONE, PLUS, MINUS\n",
    "print(PLUS.state)"
   ]
  },
  {
   "cell_type": "markdown",
   "metadata": {},
   "source": [
    "# Quantum Register\n",
    "\n",
    "Quantum register uses kron product to join individual qbits. After that it is manipulated almost exclusively by using gates (next section). It is currently impossible to _add_, or _join_ registers to form new one, because it sounds weird to me that it is even possible. \n",
    "\n",
    "Main friend here is function _mk_reg_ which creates register given list of bits. \n",
    "\n",
    "Other useful methods to know about:\n",
    "\n",
    "- copy: create copy of register\n",
    "- swap(i,j): swap two bits in register\n",
    "- gather(bits): gather necessary bits together for applying gates **NOT IMPLEMENTED**\n",
    "- scatter(bits): reverse of gather **NOT IMPLEMENTED**\n",
    "- get_qbit(i): get state of ith (single) qbit (in string form). "
   ]
  },
  {
   "cell_type": "code",
   "execution_count": 5,
   "metadata": {},
   "outputs": [],
   "source": [
    "from qcomp.qregister import mk_reg"
   ]
  },
  {
   "cell_type": "code",
   "execution_count": 6,
   "metadata": {},
   "outputs": [],
   "source": [
    "Q00 = mk_reg([ZERO,ZERO])\n",
    "QMM = mk_reg([MINUS, MINUS])"
   ]
  },
  {
   "cell_type": "markdown",
   "metadata": {},
   "source": [
    "additionally we can use len and print functions on register. They work as expected"
   ]
  },
  {
   "cell_type": "code",
   "execution_count": 7,
   "metadata": {},
   "outputs": [
    {
     "name": "stdout",
     "output_type": "stream",
     "text": [
      "1.00+0.00j \t |00> \n",
      "0.00+0.00j \t |01> \n",
      "0.00+0.00j \t |10> \n",
      "0.00+0.00j \t |11> \n",
      "\n"
     ]
    }
   ],
   "source": [
    "print(Q00)"
   ]
  },
  {
   "cell_type": "code",
   "execution_count": 8,
   "metadata": {},
   "outputs": [
    {
     "data": {
      "text/plain": [
       "2"
      ]
     },
     "execution_count": 8,
     "metadata": {},
     "output_type": "execute_result"
    }
   ],
   "source": [
    "len(QMM)"
   ]
  },
  {
   "cell_type": "code",
   "execution_count": 9,
   "metadata": {},
   "outputs": [
    {
     "name": "stdout",
     "output_type": "stream",
     "text": [
      "0.50+0.00j \t |00> \n",
      "-0.50+0.00j \t |01> \n",
      "-0.50+0.00j \t |10> \n",
      "0.50-0.00j \t |11> \n",
      "\n"
     ]
    }
   ],
   "source": [
    "print(QMM)"
   ]
  },
  {
   "cell_type": "markdown",
   "metadata": {},
   "source": [
    "# GATES"
   ]
  },
  {
   "cell_type": "markdown",
   "metadata": {},
   "source": [
    "Main heart of Quantum algorithms is the use of gates. Generic Gate only needs to know 2 things, how many qbits it is acting on and how it actually acts. For now, everything is pretty much matrix multiplication all over, however things can be changed to create better performance"
   ]
  },
  {
   "cell_type": "markdown",
   "metadata": {},
   "source": [
    "## Matrix gate\n",
    "\n",
    "This is simply gate constructed by passing matrix. Generally not used, however is last resort and will theoretically always work"
   ]
  },
  {
   "cell_type": "code",
   "execution_count": 10,
   "metadata": {},
   "outputs": [],
   "source": [
    "from qcomp.gate import MGate"
   ]
  },
  {
   "cell_type": "code",
   "execution_count": 11,
   "metadata": {},
   "outputs": [
    {
     "data": {
      "text/plain": [
       "0.00+0.00j \t |00> \n",
       "1.00+0.00j \t |01> \n",
       "0.00+0.00j \t |10> \n",
       "0.00+0.00j \t |11> "
      ]
     },
     "execution_count": 11,
     "metadata": {},
     "output_type": "execute_result"
    }
   ],
   "source": [
    "inot = MGate(np.array([\n",
    "    [0,1,0,0],\n",
    "    [1,0,0,0],\n",
    "    [0,0,0,1],\n",
    "    [0,0,1,0]\n",
    "]), 2) # this simply reverses second bit\n",
    "inot.apply(Q00)"
   ]
  },
  {
   "cell_type": "markdown",
   "metadata": {},
   "source": [
    "## Single QBit gates"
   ]
  },
  {
   "cell_type": "markdown",
   "metadata": {},
   "source": [
    "These are Hadamard, ID, PhaseShift and NOT gates. Important thing to always be cautious is these act on register which has only one bit, not on the bit itself. Just call apply method."
   ]
  },
  {
   "cell_type": "code",
   "execution_count": 12,
   "metadata": {},
   "outputs": [],
   "source": [
    "from qcomp.gate import PShiftGate, NOT, H, I"
   ]
  },
  {
   "cell_type": "code",
   "execution_count": 13,
   "metadata": {},
   "outputs": [
    {
     "name": "stdout",
     "output_type": "stream",
     "text": [
      "Help on class PShiftGate in module qcomp.gate:\n",
      "\n",
      "class PShiftGate(MGate)\n",
      " |  Phase Shift Gate (on single qbit)\n",
      " |  \n",
      " |  Method resolution order:\n",
      " |      PShiftGate\n",
      " |      MGate\n",
      " |      Gate\n",
      " |      builtins.object\n",
      " |  \n",
      " |  Methods defined here:\n",
      " |  \n",
      " |  __init__(self, phi)\n",
      " |      Initialize self.  See help(type(self)) for accurate signature.\n",
      " |  \n",
      " |  ----------------------------------------------------------------------\n",
      " |  Methods inherited from MGate:\n",
      " |  \n",
      " |  apply(self, qreg)\n",
      " |      Apply the gate to the given register \n",
      " |      Parameters\n",
      " |      -----------\n",
      " |      **qreg** : QReg instance \n",
      " |      \n",
      " |      Returns\n",
      " |      ----------\n",
      " |      new_qreg : QReg object created after transformation\n",
      " |  \n",
      " |  ----------------------------------------------------------------------\n",
      " |  Data descriptors inherited from Gate:\n",
      " |  \n",
      " |  __dict__\n",
      " |      dictionary for instance variables (if defined)\n",
      " |  \n",
      " |  __weakref__\n",
      " |      list of weak references to the object (if defined)\n",
      "\n"
     ]
    }
   ],
   "source": [
    "# help is always our friend\n",
    "help(PShiftGate)"
   ]
  },
  {
   "cell_type": "code",
   "execution_count": 14,
   "metadata": {},
   "outputs": [],
   "source": [
    "QPLUS = mk_reg([PLUS])"
   ]
  },
  {
   "cell_type": "code",
   "execution_count": 15,
   "metadata": {},
   "outputs": [
    {
     "data": {
      "text/plain": [
       "1.00+0.00j \t |0> \n",
       "0.00+0.00j \t |1> "
      ]
     },
     "execution_count": 15,
     "metadata": {},
     "output_type": "execute_result"
    }
   ],
   "source": [
    "H.apply(QPLUS)"
   ]
  },
  {
   "cell_type": "code",
   "execution_count": 16,
   "metadata": {},
   "outputs": [
    {
     "data": {
      "text/plain": [
       "0.00+0.00j \t |0> \n",
       "1.00+0.00j \t |1> "
      ]
     },
     "execution_count": 16,
     "metadata": {},
     "output_type": "execute_result"
    }
   ],
   "source": [
    "# not a good idea to do it this way,  but hey it works\n",
    "NOT.apply(H.apply(QPLUS))"
   ]
  },
  {
   "cell_type": "code",
   "execution_count": 17,
   "metadata": {},
   "outputs": [
    {
     "data": {
      "text/plain": [
       "0.71+0.00j \t |0> \n",
       "-0.00-0.71j \t |1> "
      ]
     },
     "execution_count": 17,
     "metadata": {},
     "output_type": "execute_result"
    }
   ],
   "source": [
    "pishift = PShiftGate(np.pi/2)\n",
    "pishift.apply(mk_reg([MINUS]))"
   ]
  },
  {
   "cell_type": "markdown",
   "metadata": {},
   "source": [
    "## VChain\n",
    "\n",
    "What if we have 5 qbit system and we want to apply hadamard on 2nd and 3rd. Unfortunately we cannot extract those bits and apply Hadamard on each then put them back. Since they are probably entangled with other bits, this would destry the state of register. Instead we need to construc a gate that applies to the whole system. This is what VChain is used for. Simply pass the list of gates (starting from 0th qbit) that needs to be applied. If particular bit does need any change just pass Identity gate. The gates will be broadcasted into bigger gate (by kron product) and be ready to applied to anything\n",
    "\n",
    "**! NOTE** this one is probably the main performance bottleneck. Needs some clever tweaks"
   ]
  },
  {
   "cell_type": "code",
   "execution_count": 18,
   "metadata": {},
   "outputs": [],
   "source": [
    "from qcomp.gate import VChain"
   ]
  },
  {
   "cell_type": "code",
   "execution_count": 19,
   "metadata": {},
   "outputs": [],
   "source": [
    "Q010M = mk_reg([ONE, ONE, ZERO, ONE])"
   ]
  },
  {
   "cell_type": "code",
   "execution_count": 20,
   "metadata": {},
   "outputs": [
    {
     "data": {
      "text/plain": [
       "0.00+0.00j \t |0000> \n",
       "0.00+0.00j \t |0001> \n",
       "0.00+0.00j \t |0010> \n",
       "0.00+0.00j \t |0011> \n",
       "0.00+0.00j \t |0100> \n",
       "0.00+0.00j \t |0101> \n",
       "0.00+0.00j \t |0110> \n",
       "0.00+0.00j \t |0111> \n",
       "0.71+0.00j \t |1000> \n",
       "0.00+0.00j \t |1001> \n",
       "0.71+0.00j \t |1010> \n",
       "0.00+0.00j \t |1011> \n",
       "0.00+0.00j \t |1100> \n",
       "0.00+0.00j \t |1101> \n",
       "0.00+0.00j \t |1110> \n",
       "0.00+0.00j \t |1111> "
      ]
     },
     "execution_count": 20,
     "metadata": {},
     "output_type": "execute_result"
    }
   ],
   "source": [
    "bigguy = VChain([I,NOT,H,NOT]) # hadamard on 2nd, not on 1st\n",
    "bigguy.apply(Q010M)"
   ]
  },
  {
   "cell_type": "markdown",
   "metadata": {},
   "source": [
    "## HChain\n",
    "\n",
    "When we wanna apply one gate after another, we can simply do\n",
    "::    \n",
    "\n",
    "    >>> q1 = G1.apply(q0)\n",
    "    >>> q2 = G2.apply(q1)\n",
    "\n",
    "and so on. HChain automates this by simply storing list of gates and applying them successively in one go"
   ]
  },
  {
   "cell_type": "code",
   "execution_count": 21,
   "metadata": {},
   "outputs": [
    {
     "data": {
      "text/plain": [
       "0.00+0.00j \t |0000> \n",
       "0.00+0.00j \t |0001> \n",
       "0.00+0.00j \t |0010> \n",
       "0.00+0.00j \t |0011> \n",
       "0.00+0.00j \t |0100> \n",
       "0.00+0.00j \t |0101> \n",
       "0.00+0.00j \t |0110> \n",
       "0.00+0.00j \t |0111> \n",
       "0.50+0.00j \t |1000> \n",
       "0.50+0.00j \t |1001> \n",
       "0.50+0.00j \t |1010> \n",
       "0.50+0.00j \t |1011> \n",
       "0.00+0.00j \t |1100> \n",
       "0.00+0.00j \t |1101> \n",
       "0.00+0.00j \t |1110> \n",
       "0.00+0.00j \t |1111> "
      ]
     },
     "execution_count": 21,
     "metadata": {},
     "output_type": "execute_result"
    }
   ],
   "source": [
    "from qcomp.gate import HChain\n",
    "\n",
    "secondbigguy = VChain([I,I,I,H])\n",
    "biggest_guy = HChain([bigguy, secondbigguy])\n",
    "biggest_guy.apply(Q010M)"
   ]
  },
  {
   "cell_type": "markdown",
   "metadata": {},
   "source": [
    "## Two-qubit gates\n",
    "\n",
    "This part is where things get tricky. Because acting on two gates can create entangled state or it can act on entangled state to begin with things are not as flexible. However, they still have same fingerprint as generic gate and are fairly easy to use. \n",
    "\n",
    "2-QBit gates are simple MGates with 4x4 matrix size. "
   ]
  },
  {
   "cell_type": "markdown",
   "metadata": {},
   "source": [
    "### SGate\n",
    "\n",
    "This is the real motherfucker. Normally, MGate can only act on neighbouring gates (say, 3rd and 4th). Here we use simple trick\n",
    "\n",
    "1. swap bits we wanna work on with last two bits\n",
    "2. Apply Identity gate to everything except last two (IDEA->There can be performance boost here)\n",
    "3. Apply MGate to last two\n",
    "4. Put everything back\n",
    "\n",
    "This way we can entangle any two qbits we want. Performace pay-off is swapping itself, however, I imagine it is cheaper then 'kron'ing gates. \n",
    "\n",
    "The irritating part with this one is that, it cannot be VChained because this itself is VChain on its own (which works a little bit different). So this gate needs to act on **entire** register.\n",
    "\n",
    "#### controlled gates\n",
    "\n",
    "However, I have not come across anything that have actually needed SGate directly. More useful ones are its descendents, controlled-NOT (CNOT), controlled-PhaseShif(CPSGate). They all have form \n",
    "  1 0 0 0\n",
    "  0 1 0 0\n",
    "  0 0 a b\n",
    "  0 0 c d\n",
    "This means you only need to know a,b,c,d to use the gates. In case of **CNOT** it same as NOT gate, for **CPSGate** it is same as phase shift gate. You need to pass extra 3 arguments, position of control bit, position of acting bit and size of register"
   ]
  },
  {
   "cell_type": "code",
   "execution_count": 22,
   "metadata": {},
   "outputs": [],
   "source": [
    "from qcomp.gate import CNOT, CPSGate"
   ]
  },
  {
   "cell_type": "code",
   "execution_count": 23,
   "metadata": {},
   "outputs": [
    {
     "name": "stdout",
     "output_type": "stream",
     "text": [
      "Help on class CNOT in module qcomp.gate:\n",
      "\n",
      "class CNOT(CGate)\n",
      " |  Controlled gate. This one will act on the second bit (in some predefined way) when control bit is 0. Otherwise it stays intact. Controlled gates have matrix in the from\n",
      " |  [1 0 0  0]\n",
      " |  [0 1 0 0]\n",
      " |  [0 0 a b]\n",
      " |  [0 0 c d]\n",
      " |  where a,b,c,d are transformation matrix that will be applied (when cbit is 1). These are SGate, so cannot be V-Chained\n",
      " |  \n",
      " |  Method resolution order:\n",
      " |      CNOT\n",
      " |      CGate\n",
      " |      SGate\n",
      " |      Gate\n",
      " |      builtins.object\n",
      " |  \n",
      " |  Methods defined here:\n",
      " |  \n",
      " |  __init__(self, cbit, abit, qreg_size)\n",
      " |      Make a gate that has defined matrix form, which will entangle bits specified rather than neighbours.\n",
      " |      \n",
      " |      Parameters:\n",
      " |      matrix.: matrix form of gate (4x4 expected as it will act on 2 bits)\n",
      " |      control_bit: first bit it acts on (usually used as control)\n",
      " |      act_bit: second bit it acts on (usually bit that will change when control bit is 0)\n",
      " |  \n",
      " |  ----------------------------------------------------------------------\n",
      " |  Methods inherited from SGate:\n",
      " |  \n",
      " |  apply(self, qreg)\n",
      " |      Apply the gate to the given register \n",
      " |      Parameters\n",
      " |      -----------\n",
      " |      **qreg** : QReg instance \n",
      " |      \n",
      " |      Returns\n",
      " |      ----------\n",
      " |      new_qreg : QReg object created after transformation\n",
      " |  \n",
      " |  ----------------------------------------------------------------------\n",
      " |  Data descriptors inherited from Gate:\n",
      " |  \n",
      " |  __dict__\n",
      " |      dictionary for instance variables (if defined)\n",
      " |  \n",
      " |  __weakref__\n",
      " |      list of weak references to the object (if defined)\n",
      "\n"
     ]
    }
   ],
   "source": [
    "help(CNOT)"
   ]
  },
  {
   "cell_type": "code",
   "execution_count": 24,
   "metadata": {},
   "outputs": [
    {
     "data": {
      "text/plain": [
       "0.00+0.00j \t |000> \n",
       "0.00+0.00j \t |001> \n",
       "0.71+0.00j \t |010> \n",
       "0.71+0.00j \t |011> \n",
       "0.00+0.00j \t |100> \n",
       "0.00+0.00j \t |101> \n",
       "0.00+0.00j \t |110> \n",
       "0.00+0.00j \t |111> "
      ]
     },
     "execution_count": 24,
     "metadata": {},
     "output_type": "execute_result"
    }
   ],
   "source": [
    "Q01P = mk_reg([ZERO,ONE,PLUS])\n",
    "Q01P"
   ]
  },
  {
   "cell_type": "code",
   "execution_count": 25,
   "metadata": {},
   "outputs": [
    {
     "data": {
      "text/plain": [
       "0.00+0.00j \t |000> \n",
       "0.71+0.00j \t |001> \n",
       "0.00+0.00j \t |010> \n",
       "0.00+0.00j \t |011> \n",
       "0.00+0.00j \t |100> \n",
       "0.71+0.00j \t |101> \n",
       "0.00+0.00j \t |110> \n",
       "0.00+0.00j \t |111> "
      ]
     },
     "execution_count": 25,
     "metadata": {},
     "output_type": "execute_result"
    }
   ],
   "source": [
    "cnot20 = CNOT(2,0,3) # switch switch 0th bit, controlled by 2nd bit\n",
    "cnot20.apply(Q01P)"
   ]
  },
  {
   "cell_type": "markdown",
   "metadata": {},
   "source": [
    "half of 0th bits are 0, other half is 1. Just as expected"
   ]
  },
  {
   "cell_type": "code",
   "execution_count": 26,
   "metadata": {},
   "outputs": [
    {
     "data": {
      "text/plain": [
       "0.00+0.00j \t |000> \n",
       "0.71+0.00j \t |001> \n",
       "0.00+0.00j \t |010> \n",
       "0.00+0.00j \t |011> \n",
       "0.00+0.00j \t |100> \n",
       "0.00+0.71j \t |101> \n",
       "0.00+0.00j \t |110> \n",
       "0.00+0.00j \t |111> "
      ]
     },
     "execution_count": 26,
     "metadata": {},
     "output_type": "execute_result"
    }
   ],
   "source": [
    "cps01 = CPSGate(np.pi/2,1,2,3) # 1st bit is control, 0th will be acted upon\n",
    "cps01.apply(Q01P)"
   ]
  },
  {
   "cell_type": "markdown",
   "metadata": {},
   "source": [
    "**THE ANSWER IS NOT RIGHT, FOR SOME REASON IT HAS APPLIED REVERSING TO BITS AS WELL AS PHASE SHIFT. NEEDS FURTHER INSPECTION**"
   ]
  },
  {
   "cell_type": "markdown",
   "metadata": {},
   "source": [
    "### CCNOT gate\n",
    "\n",
    "This one is extension of CNOT gate where two bits are used as control (when both is 1, applies not to acting bit). Cool thing about this is by apply not gate to controls we can switch types of control. For example, if I apply not gate to first bit, then gate acts when controls are 01 (rather than 11). This is amazing as now, we can implement classic logic gates easily as well."
   ]
  },
  {
   "cell_type": "code",
   "execution_count": 27,
   "metadata": {},
   "outputs": [],
   "source": [
    "Q010 = mk_reg([ZERO,ONE,ZERO])"
   ]
  },
  {
   "cell_type": "code",
   "execution_count": 28,
   "metadata": {},
   "outputs": [
    {
     "name": "stdout",
     "output_type": "stream",
     "text": [
      "Help on class CCNOT in module qcomp.gate:\n",
      "\n",
      "class CCNOT(CCGate)\n",
      " |  Similar to CGate except two bits are used for control. When both is one transformation is applied, otherwise nothing is done\n",
      " |  \n",
      " |  Method resolution order:\n",
      " |      CCNOT\n",
      " |      CCGate\n",
      " |      Gate\n",
      " |      builtins.object\n",
      " |  \n",
      " |  Methods defined here:\n",
      " |  \n",
      " |  __init__(self, cbits, abit, qreg_size)\n",
      " |      by defualt prepares 3 qbit gate that uses first 2 as control, acts on 3rd\n",
      " |  \n",
      " |  ----------------------------------------------------------------------\n",
      " |  Methods inherited from CCGate:\n",
      " |  \n",
      " |  apply(self, qreg)\n",
      " |      Apply the gate to the given register \n",
      " |      Parameters\n",
      " |      -----------\n",
      " |      **qreg** : QReg instance \n",
      " |      \n",
      " |      Returns\n",
      " |      ----------\n",
      " |      new_qreg : QReg object created after transformation\n",
      " |  \n",
      " |  ----------------------------------------------------------------------\n",
      " |  Data descriptors inherited from Gate:\n",
      " |  \n",
      " |  __dict__\n",
      " |      dictionary for instance variables (if defined)\n",
      " |  \n",
      " |  __weakref__\n",
      " |      list of weak references to the object (if defined)\n",
      "\n"
     ]
    }
   ],
   "source": [
    "from qcomp.gate import CCNOT\n",
    "help(CCNOT)"
   ]
  },
  {
   "cell_type": "code",
   "execution_count": null,
   "metadata": {},
   "outputs": [],
   "source": [
    "ccnot = CCNOT([0,1], 2, 3)"
   ]
  },
  {
   "cell_type": "code",
   "execution_count": 39,
   "metadata": {},
   "outputs": [
    {
     "data": {
      "text/plain": [
       "0.00+0.00j \t |000> \n",
       "0.00+0.00j \t |001> \n",
       "1.00+0.00j \t |010> \n",
       "0.00+0.00j \t |011> \n",
       "0.00+0.00j \t |100> \n",
       "0.00+0.00j \t |101> \n",
       "0.00+0.00j \t |110> \n",
       "0.00+0.00j \t |111> "
      ]
     },
     "execution_count": 39,
     "metadata": {},
     "output_type": "execute_result"
    }
   ],
   "source": [
    "ccnot.apply(Q010) # nothing should apply as one of controls is 0"
   ]
  },
  {
   "cell_type": "code",
   "execution_count": 45,
   "metadata": {},
   "outputs": [
    {
     "ename": "AttributeError",
     "evalue": "'CCNOT' object has no attribute 'qreg_size'",
     "output_type": "error",
     "traceback": [
      "\u001b[0;31m---------------------------------------------------------------------------\u001b[0m",
      "\u001b[0;31mAttributeError\u001b[0m                            Traceback (most recent call last)",
      "\u001b[0;32m<ipython-input-45-14839f12f788>\u001b[0m in \u001b[0;36m<module>\u001b[0;34m\u001b[0m\n\u001b[1;32m      2\u001b[0m     \u001b[0mVChain\u001b[0m\u001b[0;34m(\u001b[0m\u001b[0;34m[\u001b[0m\u001b[0mNOT\u001b[0m\u001b[0;34m,\u001b[0m\u001b[0mI\u001b[0m\u001b[0;34m,\u001b[0m\u001b[0mI\u001b[0m\u001b[0;34m]\u001b[0m\u001b[0;34m)\u001b[0m\u001b[0;34m,\u001b[0m\u001b[0;34m\u001b[0m\u001b[0m\n\u001b[1;32m      3\u001b[0m     \u001b[0mccnot\u001b[0m\u001b[0;34m,\u001b[0m\u001b[0;34m\u001b[0m\u001b[0m\n\u001b[0;32m----> 4\u001b[0;31m     \u001b[0mVChain\u001b[0m\u001b[0;34m(\u001b[0m\u001b[0;34m[\u001b[0m\u001b[0mNOT\u001b[0m\u001b[0;34m,\u001b[0m\u001b[0mI\u001b[0m\u001b[0;34m,\u001b[0m\u001b[0mI\u001b[0m\u001b[0;34m]\u001b[0m\u001b[0;34m)\u001b[0m \u001b[0;31m# do not forget to flip things back\u001b[0m\u001b[0;34m\u001b[0m\u001b[0m\n\u001b[0m\u001b[1;32m      5\u001b[0m ])\n\u001b[1;32m      6\u001b[0m \u001b[0mnotccnot\u001b[0m\u001b[0;34m.\u001b[0m\u001b[0mapply\u001b[0m\u001b[0;34m(\u001b[0m\u001b[0mQ010\u001b[0m\u001b[0;34m)\u001b[0m \u001b[0;31m# now we defined ou control to 01 so last bit should be flipped\u001b[0m\u001b[0;34m\u001b[0m\u001b[0m\n",
      "\u001b[0;32m~/Documents/QComp/qcomp/qcomp/gate.py\u001b[0m in \u001b[0;36m__init__\u001b[0;34m(self, gates)\u001b[0m\n\u001b[1;32m    148\u001b[0m \u001b[0;34m\u001b[0m\u001b[0m\n\u001b[1;32m    149\u001b[0m     \u001b[0;32mdef\u001b[0m \u001b[0m__init__\u001b[0m\u001b[0;34m(\u001b[0m\u001b[0mself\u001b[0m\u001b[0;34m,\u001b[0m \u001b[0mgates\u001b[0m\u001b[0;34m)\u001b[0m\u001b[0;34m:\u001b[0m\u001b[0;34m\u001b[0m\u001b[0m\n\u001b[0;32m--> 150\u001b[0;31m         \u001b[0mqsizes\u001b[0m \u001b[0;34m=\u001b[0m \u001b[0;34m[\u001b[0m\u001b[0mg\u001b[0m\u001b[0;34m.\u001b[0m\u001b[0mqreg_size\u001b[0m \u001b[0;32mfor\u001b[0m \u001b[0mg\u001b[0m \u001b[0;32min\u001b[0m \u001b[0mgates\u001b[0m\u001b[0;34m]\u001b[0m\u001b[0;34m\u001b[0m\u001b[0m\n\u001b[0m\u001b[1;32m    151\u001b[0m         \u001b[0;32massert\u001b[0m \u001b[0mall\u001b[0m\u001b[0;34m(\u001b[0m\u001b[0;34m[\u001b[0m\u001b[0mqsizes\u001b[0m\u001b[0;34m[\u001b[0m\u001b[0;36m0\u001b[0m\u001b[0;34m]\u001b[0m \u001b[0;34m==\u001b[0m \u001b[0mq\u001b[0m \u001b[0;32mfor\u001b[0m \u001b[0mq\u001b[0m \u001b[0;32min\u001b[0m \u001b[0mqsizes\u001b[0m\u001b[0;34m]\u001b[0m\u001b[0;34m)\u001b[0m\u001b[0;34m,\u001b[0m \u001b[0;34m\"All gates should have same qregsize, use ID gate for spectators\"\u001b[0m\u001b[0;34m\u001b[0m\u001b[0m\n\u001b[1;32m    152\u001b[0m         \u001b[0mself\u001b[0m\u001b[0;34m.\u001b[0m\u001b[0mgates\u001b[0m \u001b[0;34m=\u001b[0m \u001b[0mgates\u001b[0m\u001b[0;34m\u001b[0m\u001b[0m\n",
      "\u001b[0;32m~/Documents/QComp/qcomp/qcomp/gate.py\u001b[0m in \u001b[0;36m<listcomp>\u001b[0;34m(.0)\u001b[0m\n\u001b[1;32m    148\u001b[0m \u001b[0;34m\u001b[0m\u001b[0m\n\u001b[1;32m    149\u001b[0m     \u001b[0;32mdef\u001b[0m \u001b[0m__init__\u001b[0m\u001b[0;34m(\u001b[0m\u001b[0mself\u001b[0m\u001b[0;34m,\u001b[0m \u001b[0mgates\u001b[0m\u001b[0;34m)\u001b[0m\u001b[0;34m:\u001b[0m\u001b[0;34m\u001b[0m\u001b[0m\n\u001b[0;32m--> 150\u001b[0;31m         \u001b[0mqsizes\u001b[0m \u001b[0;34m=\u001b[0m \u001b[0;34m[\u001b[0m\u001b[0mg\u001b[0m\u001b[0;34m.\u001b[0m\u001b[0mqreg_size\u001b[0m \u001b[0;32mfor\u001b[0m \u001b[0mg\u001b[0m \u001b[0;32min\u001b[0m \u001b[0mgates\u001b[0m\u001b[0;34m]\u001b[0m\u001b[0;34m\u001b[0m\u001b[0m\n\u001b[0m\u001b[1;32m    151\u001b[0m         \u001b[0;32massert\u001b[0m \u001b[0mall\u001b[0m\u001b[0;34m(\u001b[0m\u001b[0;34m[\u001b[0m\u001b[0mqsizes\u001b[0m\u001b[0;34m[\u001b[0m\u001b[0;36m0\u001b[0m\u001b[0;34m]\u001b[0m \u001b[0;34m==\u001b[0m \u001b[0mq\u001b[0m \u001b[0;32mfor\u001b[0m \u001b[0mq\u001b[0m \u001b[0;32min\u001b[0m \u001b[0mqsizes\u001b[0m\u001b[0;34m]\u001b[0m\u001b[0;34m)\u001b[0m\u001b[0;34m,\u001b[0m \u001b[0;34m\"All gates should have same qregsize, use ID gate for spectators\"\u001b[0m\u001b[0;34m\u001b[0m\u001b[0m\n\u001b[1;32m    152\u001b[0m         \u001b[0mself\u001b[0m\u001b[0;34m.\u001b[0m\u001b[0mgates\u001b[0m \u001b[0;34m=\u001b[0m \u001b[0mgates\u001b[0m\u001b[0;34m\u001b[0m\u001b[0m\n",
      "\u001b[0;31mAttributeError\u001b[0m: 'CCNOT' object has no attribute 'qreg_size'"
     ]
    }
   ],
   "source": [
    "notccnot = HChain([\n",
    "    VChain([NOT,I,I]),\n",
    "    ccnot,\n",
    "    VChain([NOT,I,I]) # do not forget to flip things back\n",
    "])\n",
    "notccnot.apply(Q010) # now we defined ou control to 01 so last bit should be flipped"
   ]
  },
  {
   "cell_type": "code",
   "execution_count": null,
   "metadata": {},
   "outputs": [],
   "source": []
  }
 ],
 "metadata": {
  "kernelspec": {
   "display_name": "Python 3",
   "language": "python",
   "name": "python3"
  },
  "language_info": {
   "codemirror_mode": {
    "name": "ipython",
    "version": 3
   },
   "file_extension": ".py",
   "mimetype": "text/x-python",
   "name": "python",
   "nbconvert_exporter": "python",
   "pygments_lexer": "ipython3",
   "version": "3.6.7"
  }
 },
 "nbformat": 4,
 "nbformat_minor": 2
}
