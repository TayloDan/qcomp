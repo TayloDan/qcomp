{
 "cells": [
  {
   "cell_type": "markdown",
   "metadata": {},
   "source": [
    "# to implement an adder we need to first create toffoli gate (c2-not"
   ]
  },
  {
   "cell_type": "code",
   "execution_count": 1,
   "metadata": {},
   "outputs": [],
   "source": [
    "import qcomp as Q\n",
    "from qcomp.qbit import ZERO,ONE,PLUS,MINUS\n",
    "from qcomp.gate import HChain, VChain, CCGate\n",
    "import numpy as np"
   ]
  },
  {
   "cell_type": "code",
   "execution_count": 2,
   "metadata": {},
   "outputs": [],
   "source": [
    "C2Not = CCGate(np.array([\n",
    "    [0,1],[1,0]\n",
    "]))"
   ]
  },
  {
   "cell_type": "code",
   "execution_count": 8,
   "metadata": {},
   "outputs": [],
   "source": [
    "Q111 = Q.qregister.mk_reg([ONE,ZERO,ONE])"
   ]
  },
  {
   "cell_type": "code",
   "execution_count": 9,
   "metadata": {},
   "outputs": [
    {
     "data": {
      "text/plain": [
       "0.00+0.00j \t |000> \n",
       "0.00+0.00j \t |001> \n",
       "0.00+0.00j \t |010> \n",
       "0.00+0.00j \t |011> \n",
       "0.00+0.00j \t |100> \n",
       "1.00+0.00j \t |101> \n",
       "0.00+0.00j \t |110> \n",
       "0.00+0.00j \t |111> "
      ]
     },
     "execution_count": 9,
     "metadata": {},
     "output_type": "execute_result"
    }
   ],
   "source": [
    "C2Not.apply(Q111)"
   ]
  },
  {
   "cell_type": "code",
   "execution_count": null,
   "metadata": {},
   "outputs": [],
   "source": []
  }
 ],
 "metadata": {
  "kernelspec": {
   "display_name": "Python 3",
   "language": "python",
   "name": "python3"
  },
  "language_info": {
   "codemirror_mode": {
    "name": "ipython",
    "version": 3
   },
   "file_extension": ".py",
   "mimetype": "text/x-python",
   "name": "python",
   "nbconvert_exporter": "python",
   "pygments_lexer": "ipython3",
   "version": "3.5.3"
  }
 },
 "nbformat": 4,
 "nbformat_minor": 2
}
